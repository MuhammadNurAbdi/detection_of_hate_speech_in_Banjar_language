{
  "nbformat": 4,
  "nbformat_minor": 0,
  "metadata": {
    "colab": {
      "provenance": []
    },
    "kernelspec": {
      "name": "python3",
      "display_name": "Python 3"
    },
    "language_info": {
      "name": "python"
    }
  },
  "cells": [
    {
      "cell_type": "code",
      "execution_count": null,
      "metadata": {
        "id": "YPQEcEcQ8cBk"
      },
      "outputs": [],
      "source": [
        "# import library\n",
        "import pandas as pd\n",
        "import re\n",
        "import matplotlib.pyplot as plt\n",
        "from sklearn.feature_extraction.text import TfidfVectorizer, CountVectorizer\n",
        "from sklearn.model_selection import train_test_split\n",
        "from sklearn.ensemble import BaggingClassifier, VotingClassifier\n",
        "from sklearn.naive_bayes import MultinomialNB\n",
        "from sklearn.tree import DecisionTreeClassifier\n",
        "from sklearn.svm import LinearSVC\n",
        "from sklearn.metrics import classification_report\n",
        "from wordcloud import WordCloud"
      ]
    },
    {
      "cell_type": "code",
      "source": [
        "# membaca dataset file csv\n",
        "df = pd.read_csv('/content/drive/MyDrive/dataset/dataset.csv')\n",
        "\n",
        "#fungsi emoji removal\n",
        "def remove_emoji(text):\n",
        "    emoji_pattern = re.compile(\"[\"\n",
        "                           u\"\\U0001F600-\\U0001F64F\"  # emoticons\n",
        "                           u\"\\U0001F300-\\U0001F5FF\"  # symbols & pictographs\n",
        "                           u\"\\U0001F680-\\U0001F6FF\"  # transport & map symbols\n",
        "                           u\"\\U0001F1E0-\\U0001F1FF\"  # flags (iOS)\n",
        "                           u\"\\U00002702-\\U000027B0\"  # symbols\n",
        "                           u\"\\U000024C2-\\U0001F251\"  # pictographs\n",
        "                           u\"\\U0001F900-\\U0001F9FF\"  # Supplemental Symbols and Pictographs\n",
        "                           u\"\\U0001F1F2-\\U0001F1F4\"  # Enclosed Characters\n",
        "                           u\"\\U0001F1E6-\\U0001F1FF\"  # Regional Indicator Symbols\n",
        "                           u\"\\U0001F600-\\U0001F636\"  # Emoticons\n",
        "                           u\"\\U0001F681-\\U0001F6C5\"  # Transport and Map Symbols\n",
        "                           u\"\\U0001F30D-\\U0001F567\"  # Miscellaneous Symbols and Pictographs\n",
        "                           u\"\\U0001F680-\\U0001F6C0\"  # Transport and Map Symbols\n",
        "                           u\"\\U0001F600-\\U0001F64F\"  # Emoticons\n",
        "                           u\"\\U0001F300-\\U0001F5FF\"  # Symbols & Pictographs\n",
        "                           u\"\\U0001F680-\\U0001F6FF\"  # Transport & Map Symbols\n",
        "                           u\"\\U0001F1E0-\\U0001F1FF\"  # Flags (iOS)\n",
        "                           \"]+\", flags=re.UNICODE)\n",
        "    \n",
        "    return emoji_pattern.sub(r'', text)\n",
        "\n",
        "# fungsi untuk melakukan case folding, puctuation removal, emoji removal dan number removal\n",
        "def preprocess_text(text):\n",
        "    # Case folding\n",
        "    text = text.lower()\n",
        "    # Punctuation removal\n",
        "    text = re.sub(r'[^\\w\\s]', '', text)\n",
        "    text = re.sub(r'\\s+', ' ', text)\n",
        "    # Emoji removal\n",
        "    text = remove_emoji(text)\n",
        "    # Number removal\n",
        "    text = re.sub(r'\\d+', '', text)\n",
        "    return text\n",
        "\n",
        "# Melakukan preprocessing pada kolom teks\n",
        "df['text'] = df['text'].apply(preprocess_text)\n",
        "\n",
        "# menyimpan dataframe ke file csv\n",
        "df.to_csv('/content/drive/MyDrive/dataset/datasetclear.csv', index=False)"
      ],
      "metadata": {
        "id": "8Obxld_u8jn7"
      },
      "execution_count": null,
      "outputs": []
    },
    {
      "cell_type": "code",
      "source": [
        "# Membaca dataset\n",
        "df = pd.read_csv('/content/drive/MyDrive/dataset/datasetclear.csv')\n",
        "X = df['text']\n",
        "y = df['label']"
      ],
      "metadata": {
        "id": "N--ctm2h8n3k"
      },
      "execution_count": null,
      "outputs": []
    },
    {
      "cell_type": "code",
      "source": [
        "# nas N-gram 80:20 Soft Voting\n",
        "# Feature extraction dengan n-gram\n",
        "cv = CountVectorizer(ngram_range=(1,2))\n",
        "X_train_cv = cv.fit_transform(X)\n",
        "\n",
        "# Split data menjadi train dan test set\n",
        "X_train, X_test, y_train, y_test = train_test_split(X_train_cv, y, test_size=0.2, random_state=22)\n",
        "\n",
        "# Inisialisasi classifier\n",
        "svm = LinearSVC(max_iter=10000)\n",
        "nb = MultinomialNB()\n",
        "dt = DecisionTreeClassifier()\n",
        "\n",
        "# Ensemble dengan bagging\n",
        "svm_bagging = BaggingClassifier(estimator=svm, n_estimators=33, random_state=22)\n",
        "nb_bagging = BaggingClassifier(estimator=nb, n_estimators=33, random_state=22)\n",
        "dt_bagging = BaggingClassifier(estimator=dt, n_estimators=33, random_state=22)\n",
        "\n",
        "# Ensemble dengan voting\n",
        "ensemble_nas = VotingClassifier(estimators=[('svm', svm_bagging), ('nb', nb_bagging), ('dt', dt_bagging)], voting='soft')\n",
        "\n",
        "# Train model dan lakukan prediksi\n",
        "ensemble_nas.fit(X_train, y_train)\n",
        "y_pred = ensemble_nas.predict(X_test)\n",
        "\n",
        "# Print classification report\n",
        "print(\"Ensemble Bagging:\\n\", classification_report(y_test, y_pred, digits=4))"
      ],
      "metadata": {
        "id": "FEpGxGdR8qdM"
      },
      "execution_count": null,
      "outputs": []
    }
  ]
}